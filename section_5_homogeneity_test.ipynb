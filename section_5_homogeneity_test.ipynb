{
 "cells": [
  {
   "cell_type": "code",
   "execution_count": 1,
   "metadata": {},
   "outputs": [],
   "source": [
    "import numpy as np\n",
    "import matplotlib.pyplot as plt\n",
    "import seaborn as sns\n",
    "from scipy.stats import norm\n",
    "from utils.arch.anomalies import shock_mean_fn, shock_volatility_fn, perturbed_mean_fn, increasing_volatility_fn, constant_mean, extra_perturbed_mean_fn, double_volatility_fn, deterministic_volatility\n",
    "from utils.simulate_markov import simulate_arch_1_process, simulate_arch1_process_with_dynamic_anomaly\n",
    "from utils.markov_depth import calculate_markov_tukey_depth_for_trajectories_using_sample_trajectories, NADARAYA_WATSON, calculate_markov_tukey_depth_for_trajectories_using_long_trajectory\n",
    "from utils.experiments.dd_plots import obtain_dd_plot\n",
    "from scipy.stats import ranksums"
   ]
  },
  {
   "cell_type": "markdown",
   "metadata": {},
   "source": [
    "# Homogeneity testing"
   ]
  },
  {
   "cell_type": "code",
   "execution_count": 2,
   "metadata": {},
   "outputs": [],
   "source": [
    "# Set up the Seaborn style\n",
    "sns.set(style=\"whitegrid\")"
   ]
  },
  {
   "cell_type": "code",
   "execution_count": 3,
   "metadata": {},
   "outputs": [],
   "source": [
    "# Fix the random seed for reproducibility \n",
    "random_seed = 7\n",
    "np.random.seed(random_seed)"
   ]
  },
  {
   "cell_type": "code",
   "execution_count": 4,
   "metadata": {},
   "outputs": [],
   "source": [
    "# Max Number of steps on each trajectory\n",
    "n_steps = 200\n",
    "min_n_steps = 50\n",
    "# Number of steps of the initial long trajectory.\n",
    "# Used for the initial kernel estimation.\n",
    "n_steps_long = n_steps*5\n",
    "# Number of trajectories to simulate in group X\n",
    "M = 50\n",
    "# Number of trajectories to simulate in group Y\n",
    "A = 50\n",
    "\n",
    "# Number of rank-sum tests to execute\n",
    "NUM_ITERATIONS = 50\n",
    "\n",
    "# Bandwidth parameter for the kernel estimation\n",
    "inverse_bandwidth = np.power(n_steps_long, 1/5)"
   ]
  },
  {
   "cell_type": "code",
   "execution_count": 5,
   "metadata": {},
   "outputs": [],
   "source": [
    "# Parameters of the ARCH(1) process (X)\n",
    "INITIAL_VALUE = 0.5\n",
    "\n",
    "def mean_fn(x):\n",
    "    return 1 / (1 + np.exp(-x))\n",
    "\n",
    "def volatility_fn(x):\n",
    "    return norm.pdf(x + 1.2) + 1.5 * norm.pdf(x - 1.2)"
   ]
  },
  {
   "cell_type": "code",
   "execution_count": 6,
   "metadata": {},
   "outputs": [],
   "source": [
    "# Parameters of the ARCH(1) process (X)\n",
    "INITIAL_VALUE = 0.5\n",
    "\n",
    "def mean_fn(x):\n",
    "    return 1 / (1 + np.exp(-x))\n",
    "\n",
    "def volatility_fn(x):\n",
    "    return norm.pdf(x + 1.2) + 1.5 * norm.pdf(x - 1.2)"
   ]
  },
  {
   "cell_type": "code",
   "execution_count": 7,
   "metadata": {},
   "outputs": [],
   "source": [
    "# Perturbed mean\n",
    "def get_perturbed_mean_fn(alpha):\n",
    "    def _perturbed_mean(x):\n",
    "        return 1 / (1+alpha + np.exp(-x))\n",
    "    return _perturbed_mean"
   ]
  },
  {
   "cell_type": "code",
   "execution_count": 8,
   "metadata": {},
   "outputs": [],
   "source": [
    "# Simulate  the long trajectory that will be the reference population\n",
    "random_seed +=1\n",
    "long_trajectory = simulate_arch_1_process(\n",
    "    n_steps=n_steps_long, \n",
    "    m=mean_fn, \n",
    "    sigma=volatility_fn, \n",
    "    initial_value=INITIAL_VALUE,\n",
    "    num_processes=1, \n",
    "    seed=random_seed,\n",
    ")[0]"
   ]
  },
  {
   "cell_type": "code",
   "execution_count": 9,
   "metadata": {},
   "outputs": [],
   "source": [
    "alphas = np.linspace(0.3,1,num=15)\n",
    "average_p_values = list()\n",
    "for a in alphas:\n",
    "    p_values = list()\n",
    "    for i in range(NUM_ITERATIONS):\n",
    "        # Simulate  ARCH(1) processes (X)\n",
    "        random_seed +=1\n",
    "        regular_trajectories = simulate_arch_1_process(\n",
    "            n_steps=n_steps, \n",
    "            m=mean_fn, \n",
    "            sigma=volatility_fn, \n",
    "            initial_value=INITIAL_VALUE,\n",
    "            num_processes=M, \n",
    "            min_n_step=min_n_steps,\n",
    "            seed=random_seed,\n",
    "        )\n",
    "\n",
    "        random_seed +=1\n",
    "        different_trajectories = simulate_arch_1_process(\n",
    "            n_steps=n_steps, \n",
    "            m=get_perturbed_mean_fn(alpha=a), \n",
    "            sigma=volatility_fn, \n",
    "            initial_value=INITIAL_VALUE,\n",
    "            num_processes=M, \n",
    "            min_n_step=min_n_steps,\n",
    "            seed=random_seed,\n",
    "        )\n",
    "        all_trajectories = regular_trajectories+different_trajectories\n",
    "        all_depths = calculate_markov_tukey_depth_for_trajectories_using_long_trajectory(trajectories=all_trajectories, long_trajectory=long_trajectory, marginal_cdf_estimator=NADARAYA_WATSON)\n",
    "        regular_trajectories_depths = all_depths[:M] \n",
    "        different_trajectories_depths = all_depths[M:] \n",
    "        r = ranksums(regular_trajectories_depths, different_trajectories_depths)\n",
    "        p_values.append(r.pvalue)\n",
    "    average_p_values.append(np.mean(p_values))\n"
   ]
  },
  {
   "cell_type": "code",
   "execution_count": 10,
   "metadata": {},
   "outputs": [
    {
     "data": {
      "text/plain": [
       "[0.19241115693630703,\n",
       " 0.17385890947496793,\n",
       " 0.07795783690297799,\n",
       " 0.04972507884804794,\n",
       " 0.026305466144281118,\n",
       " 0.005187550699275437,\n",
       " 0.0022156506413458705,\n",
       " 0.002398211719959378,\n",
       " 0.00028661779704198745,\n",
       " 0.0006282435978605177,\n",
       " 1.640656662630379e-05,\n",
       " 4.315005168444489e-06,\n",
       " 2.144363666964651e-05,\n",
       " 1.8759272787241869e-06,\n",
       " 6.56969467497929e-08]"
      ]
     },
     "execution_count": 10,
     "metadata": {},
     "output_type": "execute_result"
    }
   ],
   "source": [
    "average_p_values"
   ]
  },
  {
   "cell_type": "code",
   "execution_count": 22,
   "metadata": {},
   "outputs": [
    {
     "data": {
      "image/png": "[encoded data removed]",
      "text/plain": [
       "<Figure size 1000x600 with 1 Axes>"
      ]
     },
     "metadata": {},
     "output_type": "display_data"
    }
   ],
   "source": [
    "plt.figure(figsize=(10, 6))\n",
    "plt.plot(alphas, average_p_values, linestyle='-', color='blue', label='Average p-values')\n",
    "plt.xlabel(r\"$\\alpha$\", fontsize=16)\n",
    "plt.ylabel(r\"$p$-value\", fontsize=16)\n",
    "plt.grid(True)\n",
    "plt.tight_layout()\n",
    "plt.show()\n"
   ]
  },
  {
   "cell_type": "code",
   "execution_count": null,
   "metadata": {},
   "outputs": [],
   "source": []
  }
 ],
 "metadata": {
  "kernelspec": {
   "display_name": "neurips2024",
   "language": "python",
   "name": "python3"
  },
  "language_info": {
   "codemirror_mode": {
    "name": "ipython",
    "version": 3
   },
   "file_extension": ".py",
   "mimetype": "text/x-python",
   "name": "python",
   "nbconvert_exporter": "python",
   "pygments_lexer": "ipython3",
   "version": "3.10.8"
  }
 },
 "nbformat": 4,
 "nbformat_minor": 2
}
