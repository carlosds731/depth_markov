{
 "cells": [
  {
   "cell_type": "code",
   "execution_count": 1,
   "metadata": {},
   "outputs": [],
   "source": [
    "import numpy as np\n",
    "import matplotlib.pyplot as plt\n",
    "import seaborn as sns\n",
    "from utils.simulate_markov import simulate_ar1_process\n",
    "from depth.multivariate import simplicial, halfspace, simplicial, betaSkeleton\n",
    "from utils.markov_depth import calculate_markov_depth\n",
    "from utils.depth_functions import tukey_depth_depth_ar_1"
   ]
  },
  {
   "cell_type": "code",
   "execution_count": 2,
   "metadata": {},
   "outputs": [],
   "source": [
    "n_steps = 100\n",
    "M = 100"
   ]
  },
  {
   "cell_type": "code",
   "execution_count": 3,
   "metadata": {},
   "outputs": [],
   "source": [
    "# Fix the random seed for reproducibility \n",
    "random_seed = 1\n",
    "np.random.seed(random_seed)"
   ]
  },
  {
   "cell_type": "code",
   "execution_count": 4,
   "metadata": {},
   "outputs": [],
   "source": [
    "# Parameters of the AR(1) process X_t=phi*X_{t-1}+\\epsilon_t\n",
    "phi=0.85\n",
    "sigma=1  # Variance of the Normal distribution \\epsilon_t~N(0,sigma)\n",
    "initial_value = 0"
   ]
  },
  {
   "cell_type": "code",
   "execution_count": 5,
   "metadata": {},
   "outputs": [],
   "source": [
    "ar_1_simulations = simulate_ar1_process(n_steps=n_steps, phi=phi, sigma=sigma, initial_value=initial_value, num_processes=M, seed=random_seed)"
   ]
  },
  {
   "cell_type": "code",
   "execution_count": 6,
   "metadata": {},
   "outputs": [],
   "source": [
    "norma_path_depths = []"
   ]
  },
  {
   "cell_type": "code",
   "execution_count": 7,
   "metadata": {},
   "outputs": [],
   "source": [
    "for process in ar_1_simulations:\n",
    "    norma_path_depths.append(calculate_markov_depth(process, tukey_depth_depth_ar_1, phi=phi, sigma=sigma))"
   ]
  },
  {
   "cell_type": "code",
   "execution_count": null,
   "metadata": {},
   "outputs": [],
   "source": [
    "classification = [{\"true_state\": True, \"depth\": depth} for depth in norma_path_depths]"
   ]
  },
  {
   "cell_type": "code",
   "execution_count": 9,
   "metadata": {},
   "outputs": [],
   "source": [
    "different_ar_1_simulations = simulate_ar1_process(n_steps=n_steps, phi=phi, sigma=2*sigma, initial_value=initial_value, num_processes=M, seed=random_seed)"
   ]
  },
  {
   "cell_type": "code",
   "execution_count": 10,
   "metadata": {},
   "outputs": [],
   "source": [
    "abnormal_path_depths = []"
   ]
  },
  {
   "cell_type": "code",
   "execution_count": 11,
   "metadata": {},
   "outputs": [],
   "source": [
    "for process in different_ar_1_simulations:\n",
    "    abnormal_path_depths.append(calculate_markov_depth(process, tukey_depth_depth_ar_1, phi=phi, sigma=sigma))"
   ]
  }
 ],
 "metadata": {
  "kernelspec": {
   "display_name": "neurips2024",
   "language": "python",
   "name": "python3"
  },
  "language_info": {
   "codemirror_mode": {
    "name": "ipython",
    "version": 3
   },
   "file_extension": ".py",
   "mimetype": "text/x-python",
   "name": "python",
   "nbconvert_exporter": "python",
   "pygments_lexer": "ipython3",
   "version": "3.10.8"
  }
 },
 "nbformat": 4,
 "nbformat_minor": 2
}
